{
 "cells": [
  {
   "cell_type": "code",
   "execution_count": 3,
   "metadata": {},
   "outputs": [
    {
     "data": {
      "text/plain": [
       "(array([[2.4999998]], dtype=float32),\n",
       " (array([[0.49999997]], dtype=float32),\n",
       "  array([[-0.49999994]], dtype=float32),\n",
       "  array([[-0.49999997]], dtype=float32)))"
      ]
     },
     "execution_count": 3,
     "metadata": {},
     "output_type": "execute_result"
    }
   ],
   "source": [
    "import numpy as np\n",
    "import matplotlib.pyplot as plt\n",
    "import pywt\n",
    "import pywt.data\n",
    "import torch\n",
    "original = torch.tensor([[1.,2.],[1.,1.]])\n",
    "coeffs2 = pywt.dwt2(original, 'haar')\n",
    "coeffs2\n",
    "#haar小波变换的高通滤波器h={pow(1/2,1/2),pow(1/2,1/2)};低通滤波器h={pow(1/2,1/2),-pow(1/2,1/2)}"
   ]
  },
  {
   "cell_type": "code",
   "execution_count": 4,
   "metadata": {},
   "outputs": [],
   "source": [
    "#矩阵乘法实现卷积\n",
    "import torch\n",
    "\n",
    "def unfold_matrix(x,w):\n",
    "    n,m = x.shape[0:2]\n",
    "    k,l = w.shape[0:2]\n",
    "    xx = torch.zeros(((n-k+1)*(m-l+1),k*l))\n",
    "    row_num = 0\n",
    "    for i in range(n-k+1):\n",
    "        for j in range(m-l+1):\n",
    "            xx[row_num,:] = x[i:i+k, j:j+l].flatten()\n",
    "            row_num = row_num + 1\n",
    "    return xx\n",
    "\n",
    "def conv_matrix_tensor(x, w):\n",
    "    n, m = x.shape[0:]\n",
    "    k, l = w.shape[0:]\n",
    "    x_unfolded = unfold_matrix(x, w)\n",
    "    w_flat = w.flatten()#flatten()--把矩阵展开，变为向量\n",
    "    yy = torch.matmul(x_unfolded, w_flat)#expected scalar type Float\n",
    "    yy = yy.reshape((n-k+1, m-l+1))\n",
    "    return yy"
   ]
  },
  {
   "cell_type": "code",
   "execution_count": 9,
   "metadata": {},
   "outputs": [
    {
     "name": "stdout",
     "output_type": "stream",
     "text": [
      "tensor([[ 6.0000,  4.0000,  5.0000],\n",
      "        [13.5000,  4.5000,  5.0000]]) \n",
      " tensor([[-1.0000,  2.0000, -1.0000],\n",
      "        [-2.5000,  2.5000, -1.0000]]) \n",
      " tensor([[-3.0000,  0.0000,  0.0000],\n",
      "        [-0.5000, -2.5000,  0.0000]]) \n",
      " tensor([[ 0.0000,  0.0000,  0.0000],\n",
      "        [ 1.5000, -2.5000,  0.0000]])\n"
     ]
    }
   ],
   "source": [
    "def haar_d2wt(x):\n",
    "    \n",
    "    #滤波器，h——高通滤波器，g——低通滤波器\n",
    "    a = pow(1/2,1/2)\n",
    "    h = torch.Tensor([[a, a]]).T\n",
    "    g = torch.Tensor([[a, -a]]).T\n",
    "    #给矩阵加一圈零，使得之后符合变换运算过程\n",
    "    _x_ = torch.zeros(x.shape[0],1)                   \n",
    "    x = torch.cat((_x_, x, _x_ ),1)\n",
    "    __x__ = torch.zeros(1,x.shape[1])\n",
    "    x = torch.cat((__x__, x, __x__),0)\n",
    "    #矩阵乘法实现卷积取偶数行\n",
    "    L = conv_matrix_tensor(x, h)\n",
    "    H = conv_matrix_tensor(x, g)\n",
    "    LL = conv_matrix_tensor(L, h.T)[1::2,1::2]\n",
    "    LH = conv_matrix_tensor(L, g.T)[1::2,1::2]\n",
    "    HL = conv_matrix_tensor(H, h.T)[1::2,1::2]\n",
    "    HH = conv_matrix_tensor(H, g.T)[1::2,1::2]\n",
    "    \n",
    "    return LL, LH, HL, HH\n",
    "\n",
    "x = torch.tensor([[1., 2.,3., 1., 2.,3. ],[4., 5., 3., 1., 2.,3.],[6., 7., 1., 1., 2.,3. ], [5., 9., 6.,1., 2.,3. ]])\n",
    "LL, LH, HL, HH = haar_d2wt(x)\n",
    "print(LL, '\\n', LH, '\\n', HL, '\\n', HH)"
   ]
  },
  {
   "cell_type": "code",
   "execution_count": 10,
   "metadata": {},
   "outputs": [
    {
     "data": {
      "text/plain": [
       "(array([[ 6.       ,  3.9999998,  4.9999995],\n",
       "        [13.5      ,  4.4999995,  4.9999995]], dtype=float32),\n",
       " (array([[-2.9999998 ,  0.        ,  0.        ],\n",
       "         [-0.49999985, -2.4999998 ,  0.        ]], dtype=float32),\n",
       "  array([[-1.       ,  1.9999998, -0.9999999],\n",
       "         [-2.4999995,  2.4999998, -0.9999999]], dtype=float32),\n",
       "  array([[ 0.       ,  0.       ,  0.       ],\n",
       "         [ 1.4999995, -2.4999998,  0.       ]], dtype=float32)))"
      ]
     },
     "execution_count": 10,
     "metadata": {},
     "output_type": "execute_result"
    }
   ],
   "source": [
    "coeffs2 = pywt.dwt2(x, 'haar')\n",
    "coeffs2"
   ]
  },
  {
   "cell_type": "code",
   "execution_count": 14,
   "metadata": {},
   "outputs": [
    {
     "data": {
      "text/plain": [
       "tensor([[1., 2., 1., 2.],\n",
       "        [2., 3., 1., 2.],\n",
       "        [2., 3., 1., 2.],\n",
       "        [2., 3., 1., 2.]])"
      ]
     },
     "execution_count": 14,
     "metadata": {},
     "output_type": "execute_result"
    }
   ],
   "source": [
    "x"
   ]
  },
  {
   "cell_type": "code",
   "execution_count": 1,
   "metadata": {},
   "outputs": [
    {
     "ename": "ModuleNotFoundError",
     "evalue": "No module named 'Pytorch_wavelets'",
     "output_type": "error",
     "traceback": [
      "\u001b[1;31m---------------------------------------------------------------------------\u001b[0m",
      "\u001b[1;31mModuleNotFoundError\u001b[0m                       Traceback (most recent call last)",
      "\u001b[1;32md:\\1A\\mi_code\\pytorch-CycleGAN-and-pix2pix_SAM_wkd\\pytorch_wavelets\\haar_d2wt_tensor.ipynb Cell 6\u001b[0m in \u001b[0;36m<cell line: 1>\u001b[1;34m()\u001b[0m\n\u001b[1;32m----> <a href='vscode-notebook-cell:/d%3A/1A/mi_code/pytorch-CycleGAN-and-pix2pix_SAM_wkd/pytorch_wavelets/haar_d2wt_tensor.ipynb#W5sZmlsZQ%3D%3D?line=0'>1</a>\u001b[0m \u001b[39mfrom\u001b[39;00m \u001b[39mPytorch_wavelets\u001b[39;00m \u001b[39mimport\u001b[39;00m DWTForward\n\u001b[0;32m      <a href='vscode-notebook-cell:/d%3A/1A/mi_code/pytorch-CycleGAN-and-pix2pix_SAM_wkd/pytorch_wavelets/haar_d2wt_tensor.ipynb#W5sZmlsZQ%3D%3D?line=1'>2</a>\u001b[0m xfm \u001b[39m=\u001b[39m DWTForward(\u001b[39m2\u001b[39m, \u001b[39m'\u001b[39m\u001b[39mzero\u001b[39m\u001b[39m'\u001b[39m, wave\u001b[39m=\u001b[39m\u001b[39m0.3\u001b[39m)\n",
      "\u001b[1;31mModuleNotFoundError\u001b[0m: No module named 'Pytorch_wavelets'"
     ]
    }
   ],
   "source": [
    "from Pytorch_wavelets import DWTForward\n",
    "xfm = DWTForward(2, 'zero', wave=0.3)"
   ]
  },
  {
   "cell_type": "code",
   "execution_count": null,
   "metadata": {},
   "outputs": [],
   "source": [
    "student_l, student_h = xfm(fake_B)\n",
    "teacher_l, teacher_h = xfm(real_B)"
   ]
  },
  {
   "cell_type": "code",
   "execution_count": null,
   "metadata": {},
   "outputs": [],
   "source": [
    "for index in range(len(student_h)):\n",
    "    self.loss_kd += torch.nn.functional.mse_loss(teacher_h[index],student_h[index]) * 0.2"
   ]
  }
 ],
 "metadata": {
  "kernelspec": {
   "display_name": "Python 3.8.13 ('python')",
   "language": "python",
   "name": "python3"
  },
  "language_info": {
   "codemirror_mode": {
    "name": "ipython",
    "version": 3
   },
   "file_extension": ".py",
   "mimetype": "text/x-python",
   "name": "python",
   "nbconvert_exporter": "python",
   "pygments_lexer": "ipython3",
   "version": "3.8.13"
  },
  "vscode": {
   "interpreter": {
    "hash": "d2ac5446b865b2dabff2bca0e632a5c906f7b02519a2f6441b773ce8c83a30c8"
   }
  }
 },
 "nbformat": 4,
 "nbformat_minor": 4
}
